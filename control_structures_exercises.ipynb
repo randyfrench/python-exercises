{
 "cells": [
  {
   "cell_type": "code",
   "execution_count": null,
   "id": "08d7debe",
   "metadata": {},
   "outputs": [],
   "source": [
    "#1. Conditional Basics\n",
    "\n",
    "    # a. prompt the user for a day of the week, print out whether the day is Monday or not\n"
   ]
  },
  {
   "cell_type": "code",
   "execution_count": 3,
   "id": "6ccb7308",
   "metadata": {},
   "outputs": [
    {
     "name": "stdout",
     "output_type": "stream",
     "text": [
      "What day of the week is it?   mondAy\n",
      "Today is monday\n"
     ]
    }
   ],
   "source": [
    "day = input(\"What day of the week is it?   \")\n",
    "if day.lower() == \"monday\":\n",
    "    \n",
    "    print(\"Today is monday\")\n",
    "    \n",
    "else:\n",
    "    \n",
    "    print(\"Today is not monday\")"
   ]
  },
  {
   "cell_type": "code",
   "execution_count": null,
   "id": "1229686f",
   "metadata": {},
   "outputs": [],
   "source": [
    "# b. prompt the user for a day of the week, print out whether the day is a weekday or a weekend"
   ]
  },
  {
   "cell_type": "code",
   "execution_count": 4,
   "id": "0961fba1",
   "metadata": {},
   "outputs": [
    {
     "name": "stdout",
     "output_type": "stream",
     "text": [
      "What day of the week is it?\n",
      "monday\n",
      "\n",
      "Today is a weekday!\n"
     ]
    }
   ],
   "source": [
    "print(\"What day of the week is it?\")\n",
    "day = input()\n",
    "\n",
    "if day.lower() in (\"monday\", \"tuseday\", \"wednesday\", \"thursday\", \"friday\"):\n",
    "    \n",
    "    print()\n",
    "    print(\"Today is a weekday!\")\n",
    "    \n",
    "elif day.lower() in (\"saturday\", \"sunday\"):\n",
    "    \n",
    "    \n",
    "    print()\n",
    "    print(\"Today is a weekend!\")\n",
    "    \n",
    "else:\n",
    "    \n",
    "    print()\n",
    "    print(f\"{day} is not a day of the week!\")\n"
   ]
  },
  {
   "cell_type": "code",
   "execution_count": null,
   "id": "f4290db1",
   "metadata": {},
   "outputs": [],
   "source": [
    "# c. create variables and make up values for\n",
    "    # the number of hours worked in one week\n",
    "    # the hourly rate\n",
    "    # how much the week's paycheck will be\n",
    "\n",
    "# write the python code that calculates the weekly paycheck. You get paid time and a half if you work more \n",
    "# than 40 hours"
   ]
  },
  {
   "cell_type": "code",
   "execution_count": 5,
   "id": "352ba99f",
   "metadata": {},
   "outputs": [
    {
     "name": "stdout",
     "output_type": "stream",
     "text": [
      "Total Wages: 1562.5\n"
     ]
    }
   ],
   "source": [
    "hours_this_week = 55\n",
    "hourly_rate = 25\n",
    "\n",
    "if hours_this_week <= 40:\n",
    "    \n",
    "    pay = hours_this_week * hourly_rate \n",
    "\n",
    "if hours_this_week > 40:\n",
    "    \n",
    "    overtime = (hours_this_week - 40) * (hourly_rate * 1.5)\n",
    "    \n",
    "    pay = (40 * hourly_rate) + overtime\n",
    "\n",
    "print(f\"Total Wages: {pay}\")"
   ]
  },
  {
   "cell_type": "code",
   "execution_count": null,
   "id": "f19250db",
   "metadata": {},
   "outputs": [],
   "source": [
    "# 2. Loop Basics\n",
    "\n",
    "   # a. While\n",
    "       # Create an integer variable i with a value of 5.\n",
    "       # Create a while loop that runs so long as i is less than or equal to 15\n",
    "       # Each loop iteration, output the current value of i, then increment i by one.\n",
    "\n",
    "    #Your output should look like this:\n",
    "#5\n",
    "#6\n",
    "#7\n",
    "#8\n",
    "#9\n",
    "#10\n",
    "#11\n",
    "#12\n",
    "#13\n",
    "#14\n",
    "#15"
   ]
  },
  {
   "cell_type": "code",
   "execution_count": 7,
   "id": "0191c282",
   "metadata": {},
   "outputs": [
    {
     "name": "stdout",
     "output_type": "stream",
     "text": [
      "5\n",
      "6\n",
      "7\n",
      "8\n",
      "9\n",
      "10\n",
      "11\n",
      "12\n",
      "13\n",
      "14\n",
      "15\n"
     ]
    }
   ],
   "source": [
    "i = 5\n",
    "while i <= 15:\n",
    "    print(i)\n",
    "    i += 1"
   ]
  },
  {
   "cell_type": "code",
   "execution_count": 8,
   "id": "08da7f01",
   "metadata": {},
   "outputs": [
    {
     "name": "stdout",
     "output_type": "stream",
     "text": [
      "0\n",
      "2\n",
      "4\n",
      "6\n",
      "8\n",
      "10\n",
      "12\n",
      "14\n",
      "16\n",
      "18\n",
      "20\n",
      "22\n",
      "24\n",
      "26\n",
      "28\n",
      "30\n",
      "32\n",
      "34\n",
      "36\n",
      "38\n",
      "40\n",
      "42\n",
      "44\n",
      "46\n",
      "48\n",
      "50\n",
      "52\n",
      "54\n",
      "56\n",
      "58\n",
      "60\n",
      "62\n",
      "64\n",
      "66\n",
      "68\n",
      "70\n",
      "72\n",
      "74\n",
      "76\n",
      "78\n",
      "80\n",
      "82\n",
      "84\n",
      "86\n",
      "88\n",
      "90\n",
      "92\n",
      "94\n",
      "96\n",
      "98\n",
      "100\n"
     ]
    }
   ],
   "source": [
    "# Create a while loop that will count by 2's starting with 0 and ending at 100. Follow each number with \n",
    "# a new line.\n",
    "\n",
    "x = 0\n",
    "while x <= 100:\n",
    "    print(x)\n",
    "    x += 2"
   ]
  },
  {
   "cell_type": "code",
   "execution_count": 9,
   "id": "b5879548",
   "metadata": {},
   "outputs": [
    {
     "name": "stdout",
     "output_type": "stream",
     "text": [
      "100\n",
      "95\n",
      "90\n",
      "85\n",
      "80\n",
      "75\n",
      "70\n",
      "65\n",
      "60\n",
      "55\n",
      "50\n",
      "45\n",
      "40\n",
      "35\n",
      "30\n",
      "25\n",
      "20\n",
      "15\n",
      "10\n",
      "5\n",
      "0\n",
      "-5\n",
      "-10\n"
     ]
    }
   ],
   "source": [
    "# Alter your loop to count backwards by 5's from 100 to -10.\n",
    "\n",
    "x = 100\n",
    "while x > -15:\n",
    "    print(x)\n",
    "    x -= 5"
   ]
  },
  {
   "cell_type": "code",
   "execution_count": 10,
   "id": "c07f65ed",
   "metadata": {},
   "outputs": [
    {
     "name": "stdout",
     "output_type": "stream",
     "text": [
      "2\n",
      "4\n",
      "16\n",
      "256\n",
      "65536\n"
     ]
    }
   ],
   "source": [
    "#Create a while loop that starts at 2, and displays the number squared on each line while the number is\n",
    " #less than 1,000,000. Output should equal:\n",
    "x = 2\n",
    "while x < 10000000:\n",
    "    print(x)\n",
    "    x = x **2\n"
   ]
  },
  {
   "cell_type": "code",
   "execution_count": 11,
   "id": "8b2012a9",
   "metadata": {},
   "outputs": [
    {
     "name": "stdout",
     "output_type": "stream",
     "text": [
      "100\n",
      "95\n",
      "90\n",
      "85\n",
      "80\n",
      "75\n",
      "70\n",
      "65\n",
      "60\n",
      "55\n",
      "50\n",
      "45\n",
      "40\n",
      "35\n",
      "30\n",
      "25\n",
      "20\n",
      "15\n",
      "10\n",
      "5\n"
     ]
    }
   ],
   "source": [
    "#Write a loop that uses print to create the output shown below.\n",
    "#100 down to 5\n",
    "\n",
    "x = 100\n",
    "while x > 0:\n",
    "    print(x)         \n",
    "    x -= 5"
   ]
  },
  {
   "cell_type": "code",
   "execution_count": 14,
   "id": "f6082260",
   "metadata": {},
   "outputs": [
    {
     "name": "stdout",
     "output_type": "stream",
     "text": [
      "Enter your number: 7\n",
      "7 x 1 = 7\n",
      "7 x 2 = 14\n",
      "7 x 3 = 21\n",
      "7 x 4 = 28\n",
      "7 x 5 = 35\n",
      "7 x 6 = 42\n",
      "7 x 7 = 49\n",
      "7 x 8 = 56\n",
      "7 x 9 = 63\n",
      "7 x 10 = 70\n"
     ]
    }
   ],
   "source": [
    "# B. For Loops\n",
    "\n",
    "    # Write some code that prompts the user for a number, then shows a multiplication table up through 10 for \n",
    "    #that number.\n",
    "\n",
    "    # For example, if the user enters 7, your program should output:\n",
    "     \n",
    "number = int(input(\"Enter your number: \"))\n",
    "for num in range(1, 11):\n",
    "    print(\"{0} x {1} = {2}\".format(number, num, (number * num)))\n",
    "     "
   ]
  },
  {
   "cell_type": "code",
   "execution_count": 15,
   "id": "4b6bc05e",
   "metadata": {},
   "outputs": [
    {
     "name": "stdout",
     "output_type": "stream",
     "text": [
      "1\n",
      "22\n",
      "333\n",
      "4444\n",
      "55555\n",
      "666666\n",
      "7777777\n",
      "88888888\n",
      "999999999\n"
     ]
    }
   ],
   "source": [
    "# B ii. Create a for loop that uses print to create the output shown below.\n",
    "for r in range(1,10):\n",
    "    print(str(r) * r)"
   ]
  },
  {
   "cell_type": "code",
   "execution_count": null,
   "id": "db04debc",
   "metadata": {},
   "outputs": [],
   "source": []
  }
 ],
 "metadata": {
  "kernelspec": {
   "display_name": "Python 3",
   "language": "python",
   "name": "python3"
  },
  "language_info": {
   "codemirror_mode": {
    "name": "ipython",
    "version": 3
   },
   "file_extension": ".py",
   "mimetype": "text/x-python",
   "name": "python",
   "nbconvert_exporter": "python",
   "pygments_lexer": "ipython3",
   "version": "3.8.8"
  }
 },
 "nbformat": 4,
 "nbformat_minor": 5
}
