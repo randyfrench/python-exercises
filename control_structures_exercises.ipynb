{
 "cells": [
  {
   "cell_type": "code",
   "execution_count": 16,
   "id": "6ccb7308",
   "metadata": {},
   "outputs": [
    {
     "name": "stdout",
     "output_type": "stream",
     "text": [
      "What is today?wed\n",
      "Is is Monday,wed\n"
     ]
    }
   ],
   "source": [
    "day_of_the_week = input(\"What is today?\")\n",
    "print(\"Is is Monday,\" + day_of_the_week)\n"
   ]
  },
  {
   "cell_type": "code",
   "execution_count": 10,
   "id": "0961fba1",
   "metadata": {},
   "outputs": [],
   "source": [
    "while day_of_the_week == \"monday\":\n",
    "    print(\"That is a Monday!\")\n",
    "    if day_of_the_week != \"monday\":\n",
    "        print(\"That is not the day I was looking for\")\n",
    "    break"
   ]
  },
  {
   "cell_type": "code",
   "execution_count": 15,
   "id": "c7deed15",
   "metadata": {},
   "outputs": [
    {
     "data": {
      "text/plain": [
       "'monday'"
      ]
     },
     "execution_count": 15,
     "metadata": {},
     "output_type": "execute_result"
    }
   ],
   "source": []
  },
  {
   "cell_type": "code",
   "execution_count": null,
   "id": "f4290db1",
   "metadata": {},
   "outputs": [],
   "source": []
  },
  {
   "cell_type": "code",
   "execution_count": null,
   "id": "352ba99f",
   "metadata": {},
   "outputs": [],
   "source": []
  }
 ],
 "metadata": {
  "kernelspec": {
   "display_name": "Python 3",
   "language": "python",
   "name": "python3"
  },
  "language_info": {
   "codemirror_mode": {
    "name": "ipython",
    "version": 3
   },
   "file_extension": ".py",
   "mimetype": "text/x-python",
   "name": "python",
   "nbconvert_exporter": "python",
   "pygments_lexer": "ipython3",
   "version": "3.8.8"
  }
 },
 "nbformat": 4,
 "nbformat_minor": 5
}
