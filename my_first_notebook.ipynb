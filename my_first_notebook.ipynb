{
 "cells": [
  {
   "cell_type": "code",
   "execution_count": 1,
   "id": "bae96a68",
   "metadata": {},
   "outputs": [
    {
     "data": {
      "text/plain": [
       "10"
      ]
     },
     "execution_count": 1,
     "metadata": {},
     "output_type": "execute_result"
    }
   ],
   "source": [
    "5 * 2\n"
   ]
  },
  {
   "cell_type": "code",
   "execution_count": 3,
   "id": "667223ad",
   "metadata": {},
   "outputs": [
    {
     "data": {
      "text/plain": [
       "['peperoni', 'black olives', 'peppers']"
      ]
     },
     "execution_count": 3,
     "metadata": {},
     "output_type": "execute_result"
    }
   ],
   "source": [
    "toppings = [\"peperoni\", \"black olives\", \"peppers\"]\n",
    "toppings\n"
   ]
  },
  {
   "cell_type": "code",
   "execution_count": 4,
   "id": "7f21b66b",
   "metadata": {},
   "outputs": [
    {
     "data": {
      "text/plain": [
       "9"
      ]
     },
     "execution_count": 4,
     "metadata": {},
     "output_type": "execute_result"
    }
   ],
   "source": [
    "x = 5\n",
    "y = 4\n",
    "x+y"
   ]
  },
  {
   "cell_type": "code",
   "execution_count": null,
   "id": "d29e6366",
   "metadata": {},
   "outputs": [],
   "source": [
    "### Shift + enter runs the cell"
   ]
  },
  {
   "cell_type": "code",
   "execution_count": null,
   "id": "8d283e46",
   "metadata": {},
   "outputs": [],
   "source": [
    "## cmd + x to cut"
   ]
  },
  {
   "cell_type": "code",
   "execution_count": null,
   "id": "9ab6515d",
   "metadata": {},
   "outputs": [],
   "source": [
    "## cmd + v to paste"
   ]
  },
  {
   "cell_type": "code",
   "execution_count": null,
   "id": "26e0838f",
   "metadata": {},
   "outputs": [],
   "source": [
    "## cmd + c to copy"
   ]
  }
 ],
 "metadata": {
  "kernelspec": {
   "display_name": "Python 3",
   "language": "python",
   "name": "python3"
  },
  "language_info": {
   "codemirror_mode": {
    "name": "ipython",
    "version": 3
   },
   "file_extension": ".py",
   "mimetype": "text/x-python",
   "name": "python",
   "nbconvert_exporter": "python",
   "pygments_lexer": "ipython3",
   "version": "3.8.8"
  }
 },
 "nbformat": 4,
 "nbformat_minor": 5
}
