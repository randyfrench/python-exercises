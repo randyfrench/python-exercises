{
 "cells": [
  {
   "cell_type": "code",
   "execution_count": 3,
   "id": "4b80e967",
   "metadata": {},
   "outputs": [
    {
     "data": {
      "text/plain": [
       "False"
      ]
     },
     "execution_count": 3,
     "metadata": {},
     "output_type": "execute_result"
    }
   ],
   "source": [
    "def is_two(x):\n",
    "    if x == 2:\n",
    "        return True\n",
    "    else:\n",
    "        return False\n",
    "is_two(3)\n"
   ]
  },
  {
   "cell_type": "code",
   "execution_count": 2,
   "id": "fd9342c8",
   "metadata": {},
   "outputs": [
    {
     "data": {
      "text/plain": [
       "True"
      ]
     },
     "execution_count": 2,
     "metadata": {},
     "output_type": "execute_result"
    }
   ],
   "source": [
    "def is_vowel(string):   \n",
    "    vowles = \"AEIOUaeiou\"\n",
    "    for x in string:\n",
    "        if x in string[0] in vowles:\n",
    "            return True\n",
    "        else:\n",
    "            return False\n",
    "    return vowels\n",
    "is_vowel('U')"
   ]
  },
  {
   "cell_type": "code",
   "execution_count": 49,
   "id": "b989b917",
   "metadata": {},
   "outputs": [
    {
     "data": {
      "text/plain": [
       "True"
      ]
     },
     "execution_count": 49,
     "metadata": {},
     "output_type": "execute_result"
    }
   ],
   "source": [
    "def is_consonant(string):\n",
    "    consonant = \"BCDFGHJKLMNPQRSTVWYZbcdfghjklmnpqrstvwxyz\"\n",
    "    for x in string:\n",
    "        if x in string[0] in consonant:\n",
    "            return True\n",
    "        else:\n",
    "            return False\n",
    "    return consonant\n",
    "is_consonant(\"z\")"
   ]
  },
  {
   "cell_type": "code",
   "execution_count": 45,
   "id": "07b70f33",
   "metadata": {},
   "outputs": [
    {
     "data": {
      "text/plain": [
       "['B', 'A', 'T']"
      ]
     },
     "execution_count": 45,
     "metadata": {},
     "output_type": "execute_result"
    }
   ],
   "source": [
    "def is_consonant(consonant):\n",
    "    consonant = [x.upper() for x in consonant]\n",
    "    return consonant\n",
    "\n",
    "is_consonant(\"bat\")"
   ]
  },
  {
   "cell_type": "code",
   "execution_count": 58,
   "id": "5d019a06",
   "metadata": {},
   "outputs": [
    {
     "ename": "IndentationError",
     "evalue": "unexpected indent (<ipython-input-58-c009103eb9a3>, line 3)",
     "output_type": "error",
     "traceback": [
      "\u001b[0;36m  File \u001b[0;32m\"<ipython-input-58-c009103eb9a3>\"\u001b[0;36m, line \u001b[0;32m3\u001b[0m\n\u001b[0;31m    for x in string[0] in consonant.capitalize():\u001b[0m\n\u001b[0m    ^\u001b[0m\n\u001b[0;31mIndentationError\u001b[0m\u001b[0;31m:\u001b[0m unexpected indent\n"
     ]
    }
   ],
   "source": [
    "def is_consonant(string):\n",
    "    consonant = \"BCDFGHJKLMNPQRSTVWYZbcdfghjklmnpqrstvwxyz\"\n",
    "        for x in string[0] in consonant.capitalize():\n",
    "        return consonant\n",
    "\n",
    "is_consonant(\"bat\")"
   ]
  },
  {
   "cell_type": "code",
   "execution_count": null,
   "id": "3c01a008",
   "metadata": {},
   "outputs": [],
   "source": [
    "def cap(string):\n",
    "    "
   ]
  }
 ],
 "metadata": {
  "kernelspec": {
   "display_name": "Python 3",
   "language": "python",
   "name": "python3"
  },
  "language_info": {
   "codemirror_mode": {
    "name": "ipython",
    "version": 3
   },
   "file_extension": ".py",
   "mimetype": "text/x-python",
   "name": "python",
   "nbconvert_exporter": "python",
   "pygments_lexer": "ipython3",
   "version": "3.8.8"
  }
 },
 "nbformat": 4,
 "nbformat_minor": 5
}
