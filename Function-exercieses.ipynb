{
 "cells": [
  {
   "cell_type": "code",
   "execution_count": 2,
   "id": "4b80e967",
   "metadata": {},
   "outputs": [
    {
     "data": {
      "text/plain": [
       "True"
      ]
     },
     "execution_count": 2,
     "metadata": {},
     "output_type": "execute_result"
    }
   ],
   "source": [
    "# 1\n",
    "def is_two(x):\n",
    "    if x == 2 or x == '2':\n",
    "        return True\n",
    "    else:\n",
    "        return False\n",
    "is_two(2)\n"
   ]
  },
  {
   "cell_type": "code",
   "execution_count": 2,
   "id": "fd9342c8",
   "metadata": {},
   "outputs": [
    {
     "data": {
      "text/plain": [
       "True"
      ]
     },
     "execution_count": 2,
     "metadata": {},
     "output_type": "execute_result"
    }
   ],
   "source": [
    "# 2\n",
    "def is_vowel(string):   \n",
    "    vowles = \"AEIOUaeiou\"\n",
    "    for x in string:\n",
    "        if x in string[0] in \n",
    "    return vowels\n",
    "is_vowel('U')"
   ]
  },
  {
   "cell_type": "code",
   "execution_count": 49,
   "id": "8a6f677a",
   "metadata": {},
   "outputs": [
    {
     "data": {
      "text/plain": [
       "True"
      ]
     },
     "execution_count": 49,
     "metadata": {},
     "output_type": "execute_result"
    }
   ],
   "source": [
    "# 3\n",
    "def is_consonant(string):\n",
    "    consonant = \"BCDFGHJKLMNPQRSTVWYZbcdfghjklmnpqrstvwxyz\"\n",
    "    for x in string:\n",
    "        if x in string[0] in consonant:\n",
    "            return True\n",
    "        else:\n",
    "            return False\n",
    "        \n",
    "    return consonant\n",
    "\n",
    "is_consonant(\"z\")"
   ]
  },
  {
   "cell_type": "code",
   "execution_count": 4,
   "id": "99a399b6",
   "metadata": {},
   "outputs": [
    {
     "data": {
      "text/plain": [
       "'Potlicker'"
      ]
     },
     "execution_count": 4,
     "metadata": {},
     "output_type": "execute_result"
    }
   ],
   "source": [
    "# 4\n",
    "def is_consonant(consonant):\n",
    "    if consonant[0] not in 'aeiou':\n",
    "        consonant = consonant.capitalize()\n",
    "        \n",
    "    return consonant\n",
    "\n",
    "is_consonant(\"potlicker\")"
   ]
  },
  {
   "cell_type": "code",
   "execution_count": 1,
   "id": "1f9fb1c0",
   "metadata": {},
   "outputs": [],
   "source": [
    "# 5\n",
    "def calculate_tip(bill, tip_percent):\n",
    "    \n",
    "    return bill * tip_percent"
   ]
  },
  {
   "cell_type": "code",
   "execution_count": 2,
   "id": "369421a6",
   "metadata": {},
   "outputs": [
    {
     "data": {
      "text/plain": [
       "20.0"
      ]
     },
     "execution_count": 2,
     "metadata": {},
     "output_type": "execute_result"
    }
   ],
   "source": [
    "bill = 100\n",
    "tip_percent = .20\n",
    "\n",
    "calculate_tip(bill, tip_percent)"
   ]
  },
  {
   "cell_type": "code",
   "execution_count": 15,
   "id": "e6e570d8",
   "metadata": {},
   "outputs": [],
   "source": [
    "# 6\n",
    "def apply_discount(price, discount_percent):\n",
    "    \n",
    "    return price - (price * discount_percent / 100)"
   ]
  },
  {
   "cell_type": "code",
   "execution_count": 16,
   "id": "c4529ef0",
   "metadata": {},
   "outputs": [
    {
     "data": {
      "text/plain": [
       "250.0"
      ]
     },
     "execution_count": 16,
     "metadata": {},
     "output_type": "execute_result"
    }
   ],
   "source": [
    "price = 500\n",
    "discount_percent = 50\n",
    "\n",
    "apply_discount(price, discount_percent)"
   ]
  },
  {
   "cell_type": "code",
   "execution_count": 3,
   "id": "16a0284c",
   "metadata": {},
   "outputs": [],
   "source": [
    "# 7 Define a function named handle_commas. It should accept a string that is a numer that contains commas in it as\n",
    "#intput, and return a number as output.\n",
    "def handle_commas(string):\n",
    "    number = \" \"\n",
    "    for char in string:\n",
    "        if char not in \",\":\n",
    "            number += char\n",
    "    return float(number)"
   ]
  },
  {
   "cell_type": "code",
   "execution_count": 4,
   "id": "d1ff9fd0",
   "metadata": {},
   "outputs": [
    {
     "data": {
      "text/plain": [
       "201255420010.0"
      ]
     },
     "execution_count": 4,
     "metadata": {},
     "output_type": "execute_result"
    }
   ],
   "source": [
    "string = \"2,0,1,25,5,42,0,0,10\"\n",
    "handle_commas(string)"
   ]
  },
  {
   "cell_type": "code",
   "execution_count": 5,
   "id": "e7bb96bd",
   "metadata": {},
   "outputs": [],
   "source": [
    "# 8 Define a function named get_letter_grade. It should accept a number and return the letter grade associated\n",
    "# with that number (A-F).\n",
    "\n",
    "def get_letter_grade(number):\n",
    "    \n",
    "    if number <= 69:        \n",
    "        grade = \"F\"\n",
    "    elif number <= 79:\n",
    "        grade = \"C\"\n",
    "    elif number <= 89:\n",
    "        grade = \"B\"\n",
    "    else:\n",
    "        grade = \"A\"\n",
    "    \n",
    "    return grade"
   ]
  },
  {
   "cell_type": "code",
   "execution_count": 7,
   "id": "5050495b",
   "metadata": {},
   "outputs": [
    {
     "data": {
      "text/plain": [
       "'c'"
      ]
     },
     "execution_count": 7,
     "metadata": {},
     "output_type": "execute_result"
    }
   ],
   "source": [
    "number = 75\n",
    "get_letter_grade(number)"
   ]
  },
  {
   "cell_type": "code",
   "execution_count": 9,
   "id": "39c00738",
   "metadata": {},
   "outputs": [],
   "source": [
    "# 9. Define a function named remove_vowels that accepts a string and returns a string with all the vowels removed.\n",
    "\n",
    "def remove_vowels(string):\n",
    "    no_vowels = \" \"\n",
    "    \n",
    "    for char in string:\n",
    "        if char.lower() not in \"aeiou\":\n",
    "            no_vowels += char\n",
    "            \n",
    "    return no_vowels"
   ]
  },
  {
   "cell_type": "code",
   "execution_count": 10,
   "id": "d17d4da3",
   "metadata": {},
   "outputs": [
    {
     "data": {
      "text/plain": [
       "' Ths strng wll hv n vwls n t whn ht'"
      ]
     },
     "execution_count": 10,
     "metadata": {},
     "output_type": "execute_result"
    }
   ],
   "source": [
    "string = \"This string will have no vowels in it when hit\"\n",
    "remove_vowels(string)"
   ]
  },
  {
   "cell_type": "code",
   "execution_count": null,
   "id": "7c946f89",
   "metadata": {},
   "outputs": [],
   "source": [
    "# 10. Define a function named normalize_name. It should accept a string and return a valid python identifier, \n",
    "# that is:\n",
    "\n",
    "#    anything that is not a valid python identifier should be removed\n",
    "#    leading and trailing whitespace should be removed\n",
    "#    everything should be lowercase\n",
    "#    spaces should be replaced with underscores\n",
    "#    for example:\n",
    "#        Name will become name\n",
    "#        First Name will become first_name\n",
    "#        % Completed will become completed\n"
   ]
  }
 ],
 "metadata": {
  "kernelspec": {
   "display_name": "Python 3",
   "language": "python",
   "name": "python3"
  },
  "language_info": {
   "codemirror_mode": {
    "name": "ipython",
    "version": 3
   },
   "file_extension": ".py",
   "mimetype": "text/x-python",
   "name": "python",
   "nbconvert_exporter": "python",
   "pygments_lexer": "ipython3",
   "version": "3.8.8"
  }
 },
 "nbformat": 4,
 "nbformat_minor": 5
}
